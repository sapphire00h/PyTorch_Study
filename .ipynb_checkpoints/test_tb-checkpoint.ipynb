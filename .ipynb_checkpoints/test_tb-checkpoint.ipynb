{
 "cells": [
  {
   "cell_type": "code",
   "execution_count": 1,
   "id": "a6ca2f78-a9bd-4939-a6a3-376cb28eac8b",
   "metadata": {},
   "outputs": [],
   "source": [
    "from torch.utils.tensorboard import SummaryWriter "
   ]
  },
  {
   "cell_type": "code",
   "execution_count": 2,
   "id": "6b61a79f-c241-43e7-bd15-0b4c0bda0338",
   "metadata": {},
   "outputs": [],
   "source": [
    "writer=SummaryWriter(\"logs\")\n",
    "\n",
    "#y=2x\n",
    "for i in range(100):\n",
    "    writer.add_scalar(\"y=2x\",2*i,i)\n",
    "\n",
    "writer.close()"
   ]
  },
  {
   "cell_type": "code",
   "execution_count": 4,
   "id": "55543b42-8e0c-4c14-87c5-ecea5ebf6e3d",
   "metadata": {},
   "outputs": [
    {
     "name": "stdout",
     "output_type": "stream",
     "text": [
      "<class 'numpy.ndarray'>\n",
      "(512, 768, 3)\n"
     ]
    }
   ],
   "source": [
    "import numpy as np\n",
    "from PIL import Image\n",
    "\n",
    "import os\n",
    "os.environ['KMP_DUPLICATE_LIB_OK'] = 'True'\n",
    "\n",
    "img_path=\"../data/hymenoptera_data/train/ants/0013035.jpg\"\n",
    "img=Image.open(img_path)\n",
    "img_array=np.array(img)\n",
    "\n",
    "print(type(img_array))\n",
    "print(img_array.shape)"
   ]
  },
  {
   "cell_type": "code",
   "execution_count": 5,
   "id": "f76c38e5-7e73-4e0c-876c-d7c85fa2fd75",
   "metadata": {},
   "outputs": [],
   "source": [
    "writer=SummaryWriter(\"logs\")\n",
    "#读取图片并将其转换成Numpy型\n",
    "img_path=\"../data/hymenoptera_data/train/ants/0013035.jpg\"\n",
    "img_PIL=Image.open(img_path)\n",
    "img_array=np.array(img_PIL)\n",
    "\n",
    "writer.add_image(\"ant\",img_array,1,dataformats=\"HWC\")\n",
    "\n",
    "writer.close()"
   ]
  }
 ],
 "metadata": {
  "kernelspec": {
   "display_name": "Python 3 (ipykernel)",
   "language": "python",
   "name": "python3"
  },
  "language_info": {
   "codemirror_mode": {
    "name": "ipython",
    "version": 3
   },
   "file_extension": ".py",
   "mimetype": "text/x-python",
   "name": "python",
   "nbconvert_exporter": "python",
   "pygments_lexer": "ipython3",
   "version": "3.9.13"
  }
 },
 "nbformat": 4,
 "nbformat_minor": 5
}
