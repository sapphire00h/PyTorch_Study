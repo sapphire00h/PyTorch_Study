{
 "cells": [
  {
   "cell_type": "markdown",
   "id": "ccce2922-b183-4a3e-9038-364344dd97d6",
   "metadata": {},
   "source": [
    "## transforms.ToTensor()"
   ]
  },
  {
   "cell_type": "code",
   "execution_count": 1,
   "id": "339e64c1-00d6-4495-8988-f360ba9faa54",
   "metadata": {},
   "outputs": [],
   "source": [
    "from torchvision import transforms\n",
    "import numpy as np\n",
    "from PIL import Image\n",
    "\n",
    "import os\n",
    "os.environ['KMP_DUPLICATE_LIB_OK'] = 'True'\n",
    "\n",
    "img_path=\"../data/hymenoptera_data/train/ants/474806473_ca6caab245.jpg\"\n",
    "img=Image.open(img_path)\n",
    "\n",
    "#先用tensor_trans生成一个对象，然后tensor_img使用对象中的函数\n",
    "tensor_trans=transforms.ToTensor()\n",
    "tensor_img=tensor_trans(img)"
   ]
  },
  {
   "cell_type": "code",
   "execution_count": 2,
   "id": "402bf886-4482-47b0-b619-4894a91f5456",
   "metadata": {},
   "outputs": [
    {
     "name": "stdout",
     "output_type": "stream",
     "text": [
      "tensor([[[0.5451, 0.5608, 0.5843,  ..., 0.6275, 0.6235, 0.6235],\n",
      "         [0.5373, 0.5490, 0.5647,  ..., 0.6235, 0.6196, 0.6196],\n",
      "         [0.5255, 0.5255, 0.5412,  ..., 0.6235, 0.6235, 0.6235],\n",
      "         ...,\n",
      "         [0.5020, 0.4902, 0.4745,  ..., 0.6627, 0.6588, 0.6510],\n",
      "         [0.5020, 0.5020, 0.4863,  ..., 0.6588, 0.6510, 0.6431],\n",
      "         [0.5098, 0.4980, 0.4902,  ..., 0.6549, 0.6431, 0.6353]],\n",
      "\n",
      "        [[0.6863, 0.7020, 0.7098,  ..., 0.7098, 0.7059, 0.7059],\n",
      "         [0.6784, 0.6902, 0.6941,  ..., 0.7059, 0.7020, 0.7020],\n",
      "         [0.6706, 0.6706, 0.6784,  ..., 0.7059, 0.7059, 0.7059],\n",
      "         ...,\n",
      "         [0.4902, 0.4824, 0.4627,  ..., 0.7098, 0.7059, 0.6980],\n",
      "         [0.4784, 0.4824, 0.4745,  ..., 0.7059, 0.6980, 0.6902],\n",
      "         [0.4863, 0.4784, 0.4745,  ..., 0.7020, 0.6902, 0.6824]],\n",
      "\n",
      "        [[0.0667, 0.0745, 0.1490,  ..., 0.4902, 0.4863, 0.4863],\n",
      "         [0.0431, 0.0549, 0.1333,  ..., 0.4863, 0.4824, 0.4824],\n",
      "         [0.0196, 0.0235, 0.1216,  ..., 0.4863, 0.4863, 0.4863],\n",
      "         ...,\n",
      "         [0.1804, 0.1569, 0.0824,  ..., 0.3725, 0.3686, 0.3608],\n",
      "         [0.1725, 0.1608, 0.1098,  ..., 0.3686, 0.3608, 0.3529],\n",
      "         [0.1804, 0.1490, 0.1255,  ..., 0.3647, 0.3529, 0.3451]]])\n"
     ]
    }
   ],
   "source": [
    "print(tensor_img)"
   ]
  },
  {
   "cell_type": "markdown",
   "id": "37ee1607-e4b2-4922-a91d-1ff25e9f1e49",
   "metadata": {},
   "source": [
    "## Numpy.ndarray"
   ]
  },
  {
   "cell_type": "code",
   "execution_count": 3,
   "id": "0b3e5e72-13ab-4795-8d46-ad91ac4df7b6",
   "metadata": {},
   "outputs": [],
   "source": [
    "import cv2"
   ]
  },
  {
   "cell_type": "code",
   "execution_count": 4,
   "id": "69b447bd-0fda-4446-9c50-3fad34e92e3f",
   "metadata": {},
   "outputs": [
    {
     "name": "stdout",
     "output_type": "stream",
     "text": [
      "<class 'numpy.ndarray'>\n"
     ]
    }
   ],
   "source": [
    "cv_img=cv2.imread(img_path)\n",
    "print(type(cv_img))"
   ]
  },
  {
   "cell_type": "code",
   "execution_count": 5,
   "id": "065205da-7431-4a3e-9410-3cd10ff428d6",
   "metadata": {},
   "outputs": [],
   "source": [
    "from torch.utils.tensorboard import SummaryWriter \n",
    "writer=SummaryWriter(\"logs\")\n",
    "writer.add_image(\"Tensor_img\",tensor_img)\n",
    "writer.close()"
   ]
  }
 ],
 "metadata": {
  "kernelspec": {
   "display_name": "Python 3 (ipykernel)",
   "language": "python",
   "name": "python3"
  },
  "language_info": {
   "codemirror_mode": {
    "name": "ipython",
    "version": 3
   },
   "file_extension": ".py",
   "mimetype": "text/x-python",
   "name": "python",
   "nbconvert_exporter": "python",
   "pygments_lexer": "ipython3",
   "version": "3.9.13"
  }
 },
 "nbformat": 4,
 "nbformat_minor": 5
}
